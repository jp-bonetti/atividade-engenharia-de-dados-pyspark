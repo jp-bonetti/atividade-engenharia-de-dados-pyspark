{
 "cells": [
  {
   "cell_type": "code",
   "execution_count": 1,
   "id": "349338ee-ecfa-4622-8f4f-0ce677d224b4",
   "metadata": {},
   "outputs": [],
   "source": [
    "from pyspark.sql import SparkSession\n",
    "from pyspark.sql.types import StructType, StructField, StringType, FloatType\n",
    "\n",
    "from delta import *"
   ]
  },
  {
   "cell_type": "code",
   "execution_count": 2,
   "id": "b40a06bf-3d6f-42e3-be24-f9d1cb2a3957",
   "metadata": {},
   "outputs": [
    {
     "name": "stderr",
     "output_type": "stream",
     "text": [
      "25/04/16 02:08:54 WARN Utils: Your hostname, bonetti-VirtualBox resolves to a loopback address: 127.0.1.1; using 10.0.2.15 instead (on interface enp0s3)\n",
      "25/04/16 02:08:54 WARN Utils: Set SPARK_LOCAL_IP if you need to bind to another address\n"
     ]
    },
    {
     "name": "stdout",
     "output_type": "stream",
     "text": [
      ":: loading settings :: url = jar:file:/home/bonetti/.cache/pypoetry/virtualenvs/atividade-engenharia-de-dados-pyspark-oL9R8c7J-py3.12/lib/python3.12/site-packages/pyspark/jars/ivy-2.5.1.jar!/org/apache/ivy/core/settings/ivysettings.xml\n"
     ]
    },
    {
     "name": "stderr",
     "output_type": "stream",
     "text": [
      "Ivy Default Cache set to: /home/bonetti/.ivy2/cache\n",
      "The jars for the packages stored in: /home/bonetti/.ivy2/jars\n",
      "io.delta#delta-core_2.12 added as a dependency\n",
      ":: resolving dependencies :: org.apache.spark#spark-submit-parent-50543418-74ee-4a22-a24b-6370a50ba6ac;1.0\n",
      "\tconfs: [default]\n",
      "\tfound io.delta#delta-core_2.12;2.4.0 in central\n",
      "\tfound io.delta#delta-storage;2.4.0 in central\n",
      "\tfound org.antlr#antlr4-runtime;4.9.3 in central\n",
      ":: resolution report :: resolve 279ms :: artifacts dl 5ms\n",
      "\t:: modules in use:\n",
      "\tio.delta#delta-core_2.12;2.4.0 from central in [default]\n",
      "\tio.delta#delta-storage;2.4.0 from central in [default]\n",
      "\torg.antlr#antlr4-runtime;4.9.3 from central in [default]\n",
      "\t---------------------------------------------------------------------\n",
      "\t|                  |            modules            ||   artifacts   |\n",
      "\t|       conf       | number| search|dwnlded|evicted|| number|dwnlded|\n",
      "\t---------------------------------------------------------------------\n",
      "\t|      default     |   3   |   0   |   0   |   0   ||   3   |   0   |\n",
      "\t---------------------------------------------------------------------\n",
      ":: retrieving :: org.apache.spark#spark-submit-parent-50543418-74ee-4a22-a24b-6370a50ba6ac\n",
      "\tconfs: [default]\n",
      "\t0 artifacts copied, 3 already retrieved (0kB/8ms)\n",
      "25/04/16 02:08:56 WARN NativeCodeLoader: Unable to load native-hadoop library for your platform... using builtin-java classes where applicable\n",
      "Setting default log level to \"WARN\".\n",
      "To adjust logging level use sc.setLogLevel(newLevel). For SparkR, use setLogLevel(newLevel).\n"
     ]
    }
   ],
   "source": [
    "spark = ( \n",
    "    SparkSession\n",
    "    .builder\n",
    "    .master(\"local[*]\")\n",
    "    .config(\"spark.jars.packages\", \"io.delta:delta-core_2.12:2.4.0\")\n",
    "    .config(\"spark.sql.extensions\", \"io.delta.sql.DeltaSparkSessionExtension\")\n",
    "    .config(\"spark.sql.catalog.spark_catalog\", \"org.apache.spark.sql.delta.catalog.DeltaCatalog\")\n",
    "    .getOrCreate() \n",
    ")"
   ]
  },
  {
   "cell_type": "code",
   "execution_count": 3,
   "id": "b331cd02-d27c-4ff8-9fe0-9e190cb1f9ae",
   "metadata": {},
   "outputs": [
    {
     "data": {
      "text/html": [
       "\n",
       "            <div>\n",
       "                <p><b>SparkSession - in-memory</b></p>\n",
       "                \n",
       "        <div>\n",
       "            <p><b>SparkContext</b></p>\n",
       "\n",
       "            <p><a href=\"http://10.0.2.15:4040\">Spark UI</a></p>\n",
       "\n",
       "            <dl>\n",
       "              <dt>Version</dt>\n",
       "                <dd><code>v3.4.2</code></dd>\n",
       "              <dt>Master</dt>\n",
       "                <dd><code>local[*]</code></dd>\n",
       "              <dt>AppName</dt>\n",
       "                <dd><code>pyspark-shell</code></dd>\n",
       "            </dl>\n",
       "        </div>\n",
       "        \n",
       "            </div>\n",
       "        "
      ],
      "text/plain": [
       "<pyspark.sql.session.SparkSession at 0x732d1c32bc80>"
      ]
     },
     "execution_count": 3,
     "metadata": {},
     "output_type": "execute_result"
    }
   ],
   "source": [
    "spark"
   ]
  },
  {
   "cell_type": "code",
   "execution_count": 4,
   "id": "a2383351-c9c0-4cc4-9933-449e594251fe",
   "metadata": {},
   "outputs": [
    {
     "name": "stderr",
     "output_type": "stream",
     "text": [
      "                                                                                "
     ]
    },
    {
     "name": "stdout",
     "output_type": "stream",
     "text": [
      "+----------+------------+---+-------+--------------+\n",
      "|ID_CLIENTE|NOME_CLIENTE|UF |STATUS |LIMITE_CREDITO|\n",
      "+----------+------------+---+-------+--------------+\n",
      "|ID001     |CLIENTE_X   |SP |ATIVO  |250000.0      |\n",
      "|ID002     |CLIENTE_Y   |SC |INATIVO|400000.0      |\n",
      "|ID003     |CLIENTE_Z   |DF |ATIVO  |1000000.0     |\n",
      "+----------+------------+---+-------+--------------+\n",
      "\n"
     ]
    }
   ],
   "source": [
    "data = [\n",
    "    (\"ID001\", \"CLIENTE_X\",\"SP\",\"ATIVO\",   250000.00),\n",
    "    (\"ID002\", \"CLIENTE_Y\",\"SC\",\"INATIVO\", 400000.00),\n",
    "    (\"ID003\", \"CLIENTE_Z\",\"DF\",\"ATIVO\",   1000000.00)\n",
    "]\n",
    "\n",
    "schema = (\n",
    "    StructType([\n",
    "        StructField(\"ID_CLIENTE\",     StringType(),True),\n",
    "        StructField(\"NOME_CLIENTE\",   StringType(),True),\n",
    "        StructField(\"UF\",             StringType(),True),\n",
    "        StructField(\"STATUS\",         StringType(),True),\n",
    "        StructField(\"LIMITE_CREDITO\", FloatType(), True)\n",
    "    ])\n",
    ")\n",
    "\n",
    "df = spark.createDataFrame(data=data,schema=schema)\n",
    "\n",
    "df.show(truncate=False)"
   ]
  },
  {
   "cell_type": "code",
   "execution_count": 5,
   "id": "6a9c5d9d-4376-4a6f-b50a-630742df1cb5",
   "metadata": {},
   "outputs": [
    {
     "name": "stderr",
     "output_type": "stream",
     "text": [
      "25/04/16 02:09:46 WARN package: Truncated the string representation of a plan since it was too large. This behavior can be adjusted by setting 'spark.sql.debug.maxToStringFields'.\n",
      "                                                                                "
     ]
    }
   ],
   "source": [
    "( \n",
    "    df\n",
    "    .write\n",
    "    .format(\"delta\")\n",
    "    .mode('overwrite')\n",
    "    .save(\"./RAW/CLIENTES\")\n",
    ")"
   ]
  },
  {
   "cell_type": "code",
   "execution_count": 6,
   "id": "07d99e9c-a1e5-4dd3-8f53-df664cc234a0",
   "metadata": {},
   "outputs": [
    {
     "name": "stdout",
     "output_type": "stream",
     "text": [
      "+----------+------------+---+-------+--------------+\n",
      "|ID_CLIENTE|NOME_CLIENTE| UF| STATUS|LIMITE_CREDITO|\n",
      "+----------+------------+---+-------+--------------+\n",
      "|     ID001|   CLIENTE_X| SP|INATIVO|           0.0|\n",
      "|     ID002|   CLIENTE_Y| SC|  ATIVO|      400000.0|\n",
      "|     ID004|   CLIENTE_Z| DF|  ATIVO|     5000000.0|\n",
      "+----------+------------+---+-------+--------------+\n",
      "\n"
     ]
    }
   ],
   "source": [
    "new_data = [\n",
    "    (\"ID001\",\"CLIENTE_X\",\"SP\",\"INATIVO\", 0.00),\n",
    "    (\"ID002\",\"CLIENTE_Y\",\"SC\",\"ATIVO\",   400000.00),\n",
    "    (\"ID004\",\"CLIENTE_Z\",\"DF\",\"ATIVO\",   5000000.00)\n",
    "]\n",
    "\n",
    "df_new = spark.createDataFrame(data=new_data, schema=schema)\n",
    "\n",
    "df_new.show()"
   ]
  },
  {
   "cell_type": "code",
   "execution_count": 7,
   "id": "325e3739-407e-49da-a1d6-b814818c18ac",
   "metadata": {},
   "outputs": [
    {
     "name": "stderr",
     "output_type": "stream",
     "text": [
      "                                                                                "
     ]
    }
   ],
   "source": [
    "deltaTable = DeltaTable.forPath(spark, \"./RAW/CLIENTES\")\n",
    "\n",
    "(\n",
    "    deltaTable.alias(\"dados_atuais\")\n",
    "    .merge(\n",
    "        df_new.alias(\"novos_dados\"),\n",
    "        \"dados_atuais.ID_CLIENTE = novos_dados.ID_CLIENTE\"\n",
    "    )\n",
    "    .whenMatchedUpdateAll()\n",
    "    .whenNotMatchedInsertAll()\n",
    "    .execute()\n",
    ")\n"
   ]
  },
  {
   "cell_type": "code",
   "execution_count": 8,
   "id": "735946a2-305b-4d4f-9d9a-77b972a8d938",
   "metadata": {},
   "outputs": [
    {
     "name": "stderr",
     "output_type": "stream",
     "text": [
      "                                                                                "
     ]
    }
   ],
   "source": [
    "deltaTable.delete(\"LIMITE_CREDITO < 400000.0\")"
   ]
  },
  {
   "cell_type": "code",
   "execution_count": 9,
   "id": "c51dde1c-4b7a-4bba-ac61-f8bf52ba834d",
   "metadata": {},
   "outputs": [
    {
     "name": "stdout",
     "output_type": "stream",
     "text": [
      "+-------+--------------------+---------+--------------------+\n",
      "|version|           timestamp|operation|    operationMetrics|\n",
      "+-------+--------------------+---------+--------------------+\n",
      "|      2|2025-04-16 02:10:...|   DELETE|{numRemovedFiles ...|\n",
      "|      1|2025-04-16 02:10:...|    MERGE|{numTargetRowsCop...|\n",
      "|      0|2025-04-16 02:09:...|    WRITE|{numFiles -> 3, n...|\n",
      "+-------+--------------------+---------+--------------------+\n",
      "\n"
     ]
    }
   ],
   "source": [
    "(\n",
    "    deltaTable\n",
    "    .history()\n",
    "    .select(\"version\", \"timestamp\", \"operation\", \"operationMetrics\")\n",
    "    .show()\n",
    ")"
   ]
  },
  {
   "cell_type": "code",
   "execution_count": 10,
   "id": "6b9c76e7-655c-4c75-84ff-75e30c434d94",
   "metadata": {},
   "outputs": [
    {
     "name": "stderr",
     "output_type": "stream",
     "text": [
      "                                                                                "
     ]
    },
    {
     "name": "stdout",
     "output_type": "stream",
     "text": [
      "+----------+------------+---+------+--------------+\n",
      "|ID_CLIENTE|NOME_CLIENTE| UF|STATUS|LIMITE_CREDITO|\n",
      "+----------+------------+---+------+--------------+\n",
      "|     ID002|   CLIENTE_Y| SC| ATIVO|      400000.0|\n",
      "|     ID004|   CLIENTE_Z| DF| ATIVO|     5000000.0|\n",
      "|     ID003|   CLIENTE_Z| DF| ATIVO|     1000000.0|\n",
      "+----------+------------+---+------+--------------+\n",
      "\n"
     ]
    }
   ],
   "source": [
    "(\n",
    "    spark\n",
    "    .read\n",
    "    .format('delta')\n",
    "    .option(\"versionAsOf\", 2)\n",
    "    .load('./RAW/CLIENTES')\n",
    "    .show()\n",
    ")"
   ]
  },
  {
   "cell_type": "code",
   "execution_count": null,
   "id": "ebfb6884-58f2-47a7-86a6-baf7b8b091dc",
   "metadata": {},
   "outputs": [],
   "source": []
  }
 ],
 "metadata": {
  "kernelspec": {
   "display_name": "Python 3 (ipykernel)",
   "language": "python",
   "name": "python3"
  },
  "language_info": {
   "codemirror_mode": {
    "name": "ipython",
    "version": 3
   },
   "file_extension": ".py",
   "mimetype": "text/x-python",
   "name": "python",
   "nbconvert_exporter": "python",
   "pygments_lexer": "ipython3",
   "version": "3.12.3"
  }
 },
 "nbformat": 4,
 "nbformat_minor": 5
}
