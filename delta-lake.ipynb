{
 "cells": [
  {
   "cell_type": "code",
   "execution_count": 26,
   "id": "349338ee-ecfa-4622-8f4f-0ce677d224b4",
   "metadata": {},
   "outputs": [],
   "source": [
    "from pyspark.sql import SparkSession\n",
    "from pyspark.sql.types import StructType, StructField, StringType, FloatType, IntegerType\n",
    "\n",
    "from delta import *"
   ]
  },
  {
   "cell_type": "code",
   "execution_count": 27,
   "id": "b40a06bf-3d6f-42e3-be24-f9d1cb2a3957",
   "metadata": {},
   "outputs": [],
   "source": [
    "spark = ( \n",
    "    SparkSession\n",
    "    .builder\n",
    "    .master(\"local[*]\")\n",
    "    .config(\"spark.jars.packages\", \"io.delta:delta-core_2.12:2.4.0\")\n",
    "    .config(\"spark.sql.extensions\", \"io.delta.sql.DeltaSparkSessionExtension\")\n",
    "    .config(\"spark.sql.catalog.spark_catalog\", \"org.apache.spark.sql.delta.catalog.DeltaCatalog\")\n",
    "    .getOrCreate() \n",
    ")"
   ]
  },
  {
   "cell_type": "code",
   "execution_count": 28,
   "id": "b331cd02-d27c-4ff8-9fe0-9e190cb1f9ae",
   "metadata": {},
   "outputs": [
    {
     "data": {
      "text/html": [
       "\n",
       "            <div>\n",
       "                <p><b>SparkSession - in-memory</b></p>\n",
       "                \n",
       "        <div>\n",
       "            <p><b>SparkContext</b></p>\n",
       "\n",
       "            <p><a href=\"http://10.0.2.15:4040\">Spark UI</a></p>\n",
       "\n",
       "            <dl>\n",
       "              <dt>Version</dt>\n",
       "                <dd><code>v3.4.2</code></dd>\n",
       "              <dt>Master</dt>\n",
       "                <dd><code>local[*]</code></dd>\n",
       "              <dt>AppName</dt>\n",
       "                <dd><code>pyspark-shell</code></dd>\n",
       "            </dl>\n",
       "        </div>\n",
       "        \n",
       "            </div>\n",
       "        "
      ],
      "text/plain": [
       "<pyspark.sql.session.SparkSession at 0x78a780cc79e0>"
      ]
     },
     "execution_count": 28,
     "metadata": {},
     "output_type": "execute_result"
    }
   ],
   "source": [
    "spark"
   ]
  },
  {
   "cell_type": "code",
   "execution_count": 29,
   "id": "a2383351-c9c0-4cc4-9933-449e594251fe",
   "metadata": {},
   "outputs": [
    {
     "name": "stdout",
     "output_type": "stream",
     "text": [
      "+----------+------------+-------------+-----------------+-------------+------------------+\n",
      "|ID_PRODUTO|NOME_PRODUTO|MARCA_PRODUTO|CATEGORIA_PRODUTO|PRECO_PRODUTO|QUANTIDADE_PRODUTO|\n",
      "+----------+------------+-------------+-----------------+-------------+------------------+\n",
      "|1         |PRODUTO_X   |MARCA_X      |CATEGORIA_X      |800.0        |50                |\n",
      "|2         |PRODUTO_Y   |MARCA_Y      |CATEGORIA_Y      |500.0        |100               |\n",
      "|3         |PRODUTO_Z   |MARCA_Z      |CATEGORIA_Z      |150.0        |150               |\n",
      "+----------+------------+-------------+-----------------+-------------+------------------+\n",
      "\n"
     ]
    }
   ],
   "source": [
    "data = [\n",
    "    (\"1\", \"PRODUTO_X\",\"MARCA_X\", \"CATEGORIA_X\" ,800.00, 50),\n",
    "    (\"2\", \"PRODUTO_Y\", \"MARCA_Y\", \"CATEGORIA_Y\", 500.00, 100),\n",
    "    (\"3\", \"PRODUTO_Z\",\"MARCA_Z\", \"CATEGORIA_Z\", 150.00, 150)\n",
    "]\n",
    "\n",
    "schema = (\n",
    "    StructType([\n",
    "        StructField(\"ID_PRODUTO\", StringType(),True),\n",
    "        StructField(\"NOME_PRODUTO\", StringType(),True),\n",
    "        StructField(\"MARCA_PRODUTO\", StringType(),True),\n",
    "        StructField(\"CATEGORIA_PRODUTO\", StringType(),True),\n",
    "        StructField(\"PRECO_PRODUTO\", FloatType(), True),\n",
    "        StructField(\"QUANTIDADE_PRODUTO\", IntegerType(), True)\n",
    "    ])\n",
    ")\n",
    "\n",
    "df = spark.createDataFrame(data=data,schema=schema)\n",
    "\n",
    "df.show(truncate=False)"
   ]
  },
  {
   "cell_type": "code",
   "execution_count": 30,
   "id": "6a9c5d9d-4376-4a6f-b50a-630742df1cb5",
   "metadata": {},
   "outputs": [
    {
     "name": "stderr",
     "output_type": "stream",
     "text": [
      "                                                                                "
     ]
    }
   ],
   "source": [
    "( \n",
    "    df\n",
    "    .write\n",
    "    .format(\"delta\")\n",
    "    .mode('overwrite')\n",
    "    .save(\"./data/PRODUTOS\")\n",
    ")"
   ]
  },
  {
   "cell_type": "code",
   "execution_count": 31,
   "id": "07d99e9c-a1e5-4dd3-8f53-df664cc234a0",
   "metadata": {},
   "outputs": [
    {
     "name": "stdout",
     "output_type": "stream",
     "text": [
      "+----------+------------+-------------+-----------------+-------------+------------------+\n",
      "|ID_PRODUTO|NOME_PRODUTO|MARCA_PRODUTO|CATEGORIA_PRODUTO|PRECO_PRODUTO|QUANTIDADE_PRODUTO|\n",
      "+----------+------------+-------------+-----------------+-------------+------------------+\n",
      "|         4|   PRODUTO_A|      MARCA_A|      CATEGORIA_A|         50.0|                60|\n",
      "|         5|   PRODUTO_B|      MARCA_B|      CATEGORIA_B|        150.0|                90|\n",
      "|         6|   PRODUTO_C|      MARCA_C|      CATEGORIA_C|        300.0|                20|\n",
      "+----------+------------+-------------+-----------------+-------------+------------------+\n",
      "\n"
     ]
    }
   ],
   "source": [
    "new_data = [\n",
    "    (\"4\",\"PRODUTO_A\", \"MARCA_A\", \"CATEGORIA_A\", 50.00, 60),\n",
    "    (\"5\",\"PRODUTO_B\", \"MARCA_B\", \"CATEGORIA_B\", 150.00, 90),\n",
    "    (\"6\",\"PRODUTO_C\", \"MARCA_C\", \"CATEGORIA_C\", 300.00, 20)\n",
    "]\n",
    "\n",
    "df_new = spark.createDataFrame(data=new_data, schema=schema)\n",
    "\n",
    "df_new.show()"
   ]
  },
  {
   "cell_type": "code",
   "execution_count": 32,
   "id": "325e3739-407e-49da-a1d6-b814818c18ac",
   "metadata": {},
   "outputs": [
    {
     "name": "stderr",
     "output_type": "stream",
     "text": [
      "                                                                                "
     ]
    }
   ],
   "source": [
    "deltaTable = DeltaTable.forPath(spark, \"./data/PRODUTOS\")\n",
    "\n",
    "(\n",
    "    deltaTable.alias(\"dados_atuais\")\n",
    "    .merge(\n",
    "        df_new.alias(\"novos_dados\"),\n",
    "        \"dados_atuais.ID_PRODUTO = novos_dados.ID_PRODUTO\"\n",
    "    )\n",
    "    .whenMatchedUpdateAll()\n",
    "    .whenNotMatchedInsertAll()\n",
    "    .execute()\n",
    ")\n"
   ]
  },
  {
   "cell_type": "code",
   "execution_count": 33,
   "id": "735946a2-305b-4d4f-9d9a-77b972a8d938",
   "metadata": {},
   "outputs": [
    {
     "name": "stderr",
     "output_type": "stream",
     "text": [
      "                                                                                "
     ]
    }
   ],
   "source": [
    "deltaTable.delete(\"ID_PRODUTO = 4\")"
   ]
  },
  {
   "cell_type": "code",
   "execution_count": 34,
   "id": "c51dde1c-4b7a-4bba-ac61-f8bf52ba834d",
   "metadata": {},
   "outputs": [
    {
     "name": "stdout",
     "output_type": "stream",
     "text": [
      "+-------+--------------------+---------+--------------------+\n",
      "|version|           timestamp|operation|    operationMetrics|\n",
      "+-------+--------------------+---------+--------------------+\n",
      "|      2|2025-04-16 10:34:...|   DELETE|{numRemovedFiles ...|\n",
      "|      1|2025-04-16 10:33:...|    MERGE|{numTargetRowsCop...|\n",
      "|      0|2025-04-16 10:33:...|    WRITE|{numFiles -> 3, n...|\n",
      "+-------+--------------------+---------+--------------------+\n",
      "\n"
     ]
    }
   ],
   "source": [
    "(\n",
    "    deltaTable\n",
    "    .history()\n",
    "    .select(\"version\", \"timestamp\", \"operation\", \"operationMetrics\")\n",
    "    .show()\n",
    ")"
   ]
  },
  {
   "cell_type": "code",
   "execution_count": 35,
   "id": "6b9c76e7-655c-4c75-84ff-75e30c434d94",
   "metadata": {},
   "outputs": [
    {
     "name": "stdout",
     "output_type": "stream",
     "text": [
      "+----------+------------+-------------+-----------------+-------------+------------------+\n",
      "|ID_PRODUTO|NOME_PRODUTO|MARCA_PRODUTO|CATEGORIA_PRODUTO|PRECO_PRODUTO|QUANTIDADE_PRODUTO|\n",
      "+----------+------------+-------------+-----------------+-------------+------------------+\n",
      "|         1|   PRODUTO_X|      MARCA_X|      CATEGORIA_X|        800.0|                50|\n",
      "|         3|   PRODUTO_Z|      MARCA_Z|      CATEGORIA_Z|        150.0|               150|\n",
      "|         2|   PRODUTO_Y|      MARCA_Y|      CATEGORIA_Y|        500.0|               100|\n",
      "|         5|   PRODUTO_B|      MARCA_B|      CATEGORIA_B|        150.0|                90|\n",
      "|         6|   PRODUTO_C|      MARCA_C|      CATEGORIA_C|        300.0|                20|\n",
      "+----------+------------+-------------+-----------------+-------------+------------------+\n",
      "\n"
     ]
    }
   ],
   "source": [
    "(\n",
    "    spark\n",
    "    .read\n",
    "    .format('delta')\n",
    "    .option(\"versionAsOf\", 2)\n",
    "    .load(\"./data/PRODUTOS\")\n",
    "    .show()\n",
    ")"
   ]
  },
  {
   "cell_type": "code",
   "execution_count": 36,
   "id": "32674fcd-24f2-4080-a108-c7467e748c84",
   "metadata": {},
   "outputs": [
    {
     "name": "stderr",
     "output_type": "stream",
     "text": [
      "                                                                                "
     ]
    }
   ],
   "source": [
    "deltaTable.update(\"ID_PRODUTO = 2\", set = { \"PRECO_PRODUTO\": \"400.00\" })"
   ]
  },
  {
   "cell_type": "code",
   "execution_count": 37,
   "id": "18b2f828-a600-4bb7-857d-11e6dde4e5ad",
   "metadata": {},
   "outputs": [
    {
     "name": "stdout",
     "output_type": "stream",
     "text": [
      "+----------+------------+-------------+-----------------+-------------+------------------+\n",
      "|ID_PRODUTO|NOME_PRODUTO|MARCA_PRODUTO|CATEGORIA_PRODUTO|PRECO_PRODUTO|QUANTIDADE_PRODUTO|\n",
      "+----------+------------+-------------+-----------------+-------------+------------------+\n",
      "|         1|   PRODUTO_X|      MARCA_X|      CATEGORIA_X|        800.0|                50|\n",
      "|         3|   PRODUTO_Z|      MARCA_Z|      CATEGORIA_Z|        150.0|               150|\n",
      "|         2|   PRODUTO_Y|      MARCA_Y|      CATEGORIA_Y|        400.0|               100|\n",
      "|         5|   PRODUTO_B|      MARCA_B|      CATEGORIA_B|        150.0|                90|\n",
      "|         6|   PRODUTO_C|      MARCA_C|      CATEGORIA_C|        300.0|                20|\n",
      "+----------+------------+-------------+-----------------+-------------+------------------+\n",
      "\n"
     ]
    }
   ],
   "source": [
    "(\n",
    "    spark\n",
    "    .read\n",
    "    .format('delta')\n",
    "    .load(\"./data/PRODUTOS\")\n",
    "    .show()\n",
    ")"
   ]
  }
 ],
 "metadata": {
  "kernelspec": {
   "display_name": "Python 3 (ipykernel)",
   "language": "python",
   "name": "python3"
  },
  "language_info": {
   "codemirror_mode": {
    "name": "ipython",
    "version": 3
   },
   "file_extension": ".py",
   "mimetype": "text/x-python",
   "name": "python",
   "nbconvert_exporter": "python",
   "pygments_lexer": "ipython3",
   "version": "3.12.3"
  }
 },
 "nbformat": 4,
 "nbformat_minor": 5
}
