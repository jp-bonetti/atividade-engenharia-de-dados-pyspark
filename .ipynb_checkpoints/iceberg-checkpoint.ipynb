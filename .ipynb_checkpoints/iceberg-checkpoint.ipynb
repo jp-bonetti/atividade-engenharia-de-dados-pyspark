{
 "cells": [
  {
   "cell_type": "code",
   "execution_count": 1,
   "id": "c29cceec-4d36-444e-bad6-9c6138e1afd4",
   "metadata": {},
   "outputs": [
    {
     "name": "stderr",
     "output_type": "stream",
     "text": [
      "25/04/16 10:05:48 WARN Utils: Your hostname, bonetti-VirtualBox resolves to a loopback address: 127.0.1.1; using 10.0.2.15 instead (on interface enp0s3)\n",
      "25/04/16 10:05:48 WARN Utils: Set SPARK_LOCAL_IP if you need to bind to another address\n"
     ]
    },
    {
     "name": "stdout",
     "output_type": "stream",
     "text": [
      ":: loading settings :: url = jar:file:/home/bonetti/.cache/pypoetry/virtualenvs/atividade-engenharia-de-dados-pyspark-oL9R8c7J-py3.12/lib/python3.12/site-packages/pyspark/jars/ivy-2.5.1.jar!/org/apache/ivy/core/settings/ivysettings.xml\n"
     ]
    },
    {
     "name": "stderr",
     "output_type": "stream",
     "text": [
      "Ivy Default Cache set to: /home/bonetti/.ivy2/cache\n",
      "The jars for the packages stored in: /home/bonetti/.ivy2/jars\n",
      "org.apache.iceberg#iceberg-spark-runtime-3.4_2.12 added as a dependency\n",
      ":: resolving dependencies :: org.apache.spark#spark-submit-parent-c5f1c366-9abb-41b2-93e6-8aac78c36e74;1.0\n",
      "\tconfs: [default]\n",
      "\tfound org.apache.iceberg#iceberg-spark-runtime-3.4_2.12;1.5.0 in central\n",
      ":: resolution report :: resolve 179ms :: artifacts dl 7ms\n",
      "\t:: modules in use:\n",
      "\torg.apache.iceberg#iceberg-spark-runtime-3.4_2.12;1.5.0 from central in [default]\n",
      "\t---------------------------------------------------------------------\n",
      "\t|                  |            modules            ||   artifacts   |\n",
      "\t|       conf       | number| search|dwnlded|evicted|| number|dwnlded|\n",
      "\t---------------------------------------------------------------------\n",
      "\t|      default     |   1   |   0   |   0   |   0   ||   1   |   0   |\n",
      "\t---------------------------------------------------------------------\n",
      ":: retrieving :: org.apache.spark#spark-submit-parent-c5f1c366-9abb-41b2-93e6-8aac78c36e74\n",
      "\tconfs: [default]\n",
      "\t0 artifacts copied, 1 already retrieved (0kB/5ms)\n",
      "25/04/16 10:05:49 WARN NativeCodeLoader: Unable to load native-hadoop library for your platform... using builtin-java classes where applicable\n",
      "Setting default log level to \"WARN\".\n",
      "To adjust logging level use sc.setLogLevel(newLevel). For SparkR, use setLogLevel(newLevel).\n",
      "25/04/16 10:05:52 WARN Utils: Service 'SparkUI' could not bind on port 4040. Attempting port 4041.\n"
     ]
    }
   ],
   "source": [
    "from pyspark.sql import SparkSession\n",
    "\n",
    "# Initialize Spark session with Iceberg configurations\n",
    "spark = SparkSession.builder \\\n",
    "  .appName(\"IcebergLocalDevelopment\") \\\n",
    "  .config('spark.jars.packages', 'org.apache.iceberg:iceberg-spark-runtime-3.4_2.12:1.5.0') \\\n",
    "  .config(\"spark.sql.extensions\", \"org.apache.iceberg.spark.extensions.IcebergSparkSessionExtensions\") \\\n",
    "  .config(\"spark.sql.catalog.local\", \"org.apache.iceberg.spark.SparkCatalog\") \\\n",
    "  .config(\"spark.sql.catalog.local.type\", \"hadoop\") \\\n",
    "  .config(\"spark.sql.catalog.local.warehouse\", \"spark-warehouse/iceberg\") \\\n",
    "  .getOrCreate()\n",
    "\n"
   ]
  },
  {
   "cell_type": "code",
   "execution_count": 2,
   "id": "7f172e07-75b8-4cee-8f9c-29705a6c16e9",
   "metadata": {},
   "outputs": [
    {
     "data": {
      "text/html": [
       "\n",
       "            <div>\n",
       "                <p><b>SparkSession - in-memory</b></p>\n",
       "                \n",
       "        <div>\n",
       "            <p><b>SparkContext</b></p>\n",
       "\n",
       "            <p><a href=\"http://10.0.2.15:4041\">Spark UI</a></p>\n",
       "\n",
       "            <dl>\n",
       "              <dt>Version</dt>\n",
       "                <dd><code>v3.4.2</code></dd>\n",
       "              <dt>Master</dt>\n",
       "                <dd><code>local[*]</code></dd>\n",
       "              <dt>AppName</dt>\n",
       "                <dd><code>IcebergLocalDevelopment</code></dd>\n",
       "            </dl>\n",
       "        </div>\n",
       "        \n",
       "            </div>\n",
       "        "
      ],
      "text/plain": [
       "<pyspark.sql.session.SparkSession at 0x7f002c5d3170>"
      ]
     },
     "execution_count": 2,
     "metadata": {},
     "output_type": "execute_result"
    }
   ],
   "source": [
    "spark"
   ]
  },
  {
   "cell_type": "code",
   "execution_count": 3,
   "id": "65829276-c409-4c21-9b08-5f332fe661fb",
   "metadata": {},
   "outputs": [
    {
     "data": {
      "text/plain": [
       "DataFrame[]"
      ]
     },
     "execution_count": 3,
     "metadata": {},
     "output_type": "execute_result"
    }
   ],
   "source": [
    "spark.sql(\n",
    "  \"\"\"\n",
    "  CREATE TABLE local.PRODUTOS (ID_PRODUTO INT, NOME_PRODUTO STRING, MARCA_PRODUTO STRING, CATEGORIA_PRODUTO STRING, PRECO_PRODUTO DOUBLE, QUANTIDADE_PRODUTO INT) USING iceberg\n",
    "  \"\"\"\n",
    ")\n"
   ]
  },
  {
   "cell_type": "code",
   "execution_count": 4,
   "id": "3c6d7e02-fa43-4138-892d-90b1a1df604e",
   "metadata": {},
   "outputs": [
    {
     "name": "stdout",
     "output_type": "stream",
     "text": [
      "+----------+------------+-------------+-----------------+-------------+------------------+\n",
      "|ID_PRODUTO|NOME_PRODUTO|MARCA_PRODUTO|CATEGORIA_PRODUTO|PRECO_PRODUTO|QUANTIDADE_PRODUTO|\n",
      "+----------+------------+-------------+-----------------+-------------+------------------+\n",
      "+----------+------------+-------------+-----------------+-------------+------------------+\n",
      "\n"
     ]
    }
   ],
   "source": [
    "spark.sql(\"select * from local.PRODUTOS\").show()"
   ]
  },
  {
   "cell_type": "code",
   "execution_count": 8,
   "id": "5180fa85-3c28-42f0-9b30-0f9f700feb6d",
   "metadata": {},
   "outputs": [
    {
     "name": "stderr",
     "output_type": "stream",
     "text": [
      "                                                                                "
     ]
    },
    {
     "data": {
      "text/plain": [
       "DataFrame[]"
      ]
     },
     "execution_count": 8,
     "metadata": {},
     "output_type": "execute_result"
    }
   ],
   "source": [
    "spark.sql('''INSERT INTO local.PRODUTOS VALUES \n",
    "    (1, \"PRODUTO_X\",\"MARCA_X\", \"CATEGORIA_X\" ,800.00, 50),\n",
    "    (2, \"PRODUTO_Y\", \"MARCA_Y\", \"CATEGORIA_Y\", 500.00, 100),\n",
    "    (3, \"PRODUTO_Z\",\"MARCA_Z\", \"CATEGORIA_Z\", 150.00, 150)''')"
   ]
  },
  {
   "cell_type": "code",
   "execution_count": 9,
   "id": "427a10c4-ba44-4ba1-9250-3153d6d469fa",
   "metadata": {},
   "outputs": [
    {
     "name": "stdout",
     "output_type": "stream",
     "text": [
      "+----------+------------+-------------+-----------------+-------------+------------------+\n",
      "|ID_PRODUTO|NOME_PRODUTO|MARCA_PRODUTO|CATEGORIA_PRODUTO|PRECO_PRODUTO|QUANTIDADE_PRODUTO|\n",
      "+----------+------------+-------------+-----------------+-------------+------------------+\n",
      "|         1|   PRODUTO_X|      MARCA_X|      CATEGORIA_X|        800.0|                50|\n",
      "|         2|   PRODUTO_Y|      MARCA_Y|      CATEGORIA_Y|        500.0|               100|\n",
      "|         3|   PRODUTO_Z|      MARCA_Z|      CATEGORIA_Z|        150.0|               150|\n",
      "+----------+------------+-------------+-----------------+-------------+------------------+\n",
      "\n"
     ]
    }
   ],
   "source": [
    "spark.sql(\"select * from local.PRODUTOS\").show()"
   ]
  },
  {
   "cell_type": "code",
   "execution_count": 10,
   "id": "fd03ed87-3374-4088-833a-afeb88afc707",
   "metadata": {},
   "outputs": [
    {
     "data": {
      "text/plain": [
       "DataFrame[]"
      ]
     },
     "execution_count": 10,
     "metadata": {},
     "output_type": "execute_result"
    }
   ],
   "source": [
    "spark.sql(\n",
    "    \"\"\"\n",
    "    alter table local.PRODUTOS add column ANO_FABRICACAO_PRODUTO STRING\n",
    "    \"\"\"\n",
    ")"
   ]
  },
  {
   "cell_type": "code",
   "execution_count": 12,
   "id": "6e8438da-8328-4bd9-a4f5-3f1c81d03306",
   "metadata": {},
   "outputs": [
    {
     "name": "stdout",
     "output_type": "stream",
     "text": [
      "+----------+------------+-------------+-----------------+-------------+------------------+----------------------+\n",
      "|ID_PRODUTO|NOME_PRODUTO|MARCA_PRODUTO|CATEGORIA_PRODUTO|PRECO_PRODUTO|QUANTIDADE_PRODUTO|ANO_FABRICACAO_PRODUTO|\n",
      "+----------+------------+-------------+-----------------+-------------+------------------+----------------------+\n",
      "|         1|   PRODUTO_X|      MARCA_X|      CATEGORIA_X|        800.0|                50|                  null|\n",
      "|         2|   PRODUTO_Y|      MARCA_Y|      CATEGORIA_Y|        500.0|               100|                  null|\n",
      "|         3|   PRODUTO_Z|      MARCA_Z|      CATEGORIA_Z|        150.0|               150|                  null|\n",
      "+----------+------------+-------------+-----------------+-------------+------------------+----------------------+\n",
      "\n"
     ]
    }
   ],
   "source": [
    "spark.sql(\n",
    "    \"\"\"\n",
    "    select * from local.PRODUTOS\n",
    "    \"\"\"\n",
    ").show()"
   ]
  },
  {
   "cell_type": "code",
   "execution_count": 16,
   "id": "b2a36651-4fab-4a92-9688-d02893d2e477",
   "metadata": {},
   "outputs": [
    {
     "data": {
      "text/plain": [
       "DataFrame[]"
      ]
     },
     "execution_count": 16,
     "metadata": {},
     "output_type": "execute_result"
    }
   ],
   "source": [
    "spark.sql(\n",
    "    \"\"\"\n",
    "    update local.PRODUTOS set ANO_FABRICACAO_PRODUTO = '2020' where ID_PRODUTO = 1\n",
    "    \"\"\"\n",
    ")"
   ]
  },
  {
   "cell_type": "code",
   "execution_count": 17,
   "id": "3a43a77b-ed49-4a82-8796-37dfe8788b25",
   "metadata": {},
   "outputs": [
    {
     "name": "stdout",
     "output_type": "stream",
     "text": [
      "+----------+------------+-------------+-----------------+-------------+------------------+----------------------+\n",
      "|ID_PRODUTO|NOME_PRODUTO|MARCA_PRODUTO|CATEGORIA_PRODUTO|PRECO_PRODUTO|QUANTIDADE_PRODUTO|ANO_FABRICACAO_PRODUTO|\n",
      "+----------+------------+-------------+-----------------+-------------+------------------+----------------------+\n",
      "|         2|   PRODUTO_Y|      MARCA_Y|      CATEGORIA_Y|        500.0|               100|                  null|\n",
      "|         3|   PRODUTO_Z|      MARCA_Z|      CATEGORIA_Z|        150.0|               150|                  null|\n",
      "|         1|   PRODUTO_X|      MARCA_X|      CATEGORIA_A|        800.0|                50|                  2020|\n",
      "+----------+------------+-------------+-----------------+-------------+------------------+----------------------+\n",
      "\n"
     ]
    }
   ],
   "source": [
    "spark.sql(\n",
    "    \"\"\"\n",
    "    select * from local.PRODUTOS\n",
    "    \"\"\"\n",
    ").show()"
   ]
  },
  {
   "cell_type": "code",
   "execution_count": 18,
   "id": "bc96b90d-fa00-4296-b641-dbd9d087065c",
   "metadata": {},
   "outputs": [
    {
     "data": {
      "text/plain": [
       "DataFrame[]"
      ]
     },
     "execution_count": 18,
     "metadata": {},
     "output_type": "execute_result"
    }
   ],
   "source": [
    "spark.sql(\n",
    "    \"\"\"\n",
    "    update local.PRODUTOS set ANO_FABRICACAO_PRODUTO = '2025' where ID_PRODUTO = 2\n",
    "    \"\"\"\n",
    ")"
   ]
  },
  {
   "cell_type": "code",
   "execution_count": 19,
   "id": "d2aae05c-03ee-4ae7-82a5-d2fec274be8c",
   "metadata": {},
   "outputs": [
    {
     "data": {
      "text/plain": [
       "DataFrame[]"
      ]
     },
     "execution_count": 19,
     "metadata": {},
     "output_type": "execute_result"
    }
   ],
   "source": [
    "spark.sql(\n",
    "    \"\"\"\n",
    "    update local.PRODUTOS set ANO_FABRICACAO_PRODUTO = '2023' where ID_PRODUTO = 3\n",
    "    \"\"\"\n",
    ")"
   ]
  },
  {
   "cell_type": "code",
   "execution_count": 20,
   "id": "6b0cf273-ad7e-47c5-b461-ec361a268b9a",
   "metadata": {},
   "outputs": [
    {
     "name": "stdout",
     "output_type": "stream",
     "text": [
      "+----------+------------+-------------+-----------------+-------------+------------------+----------------------+\n",
      "|ID_PRODUTO|NOME_PRODUTO|MARCA_PRODUTO|CATEGORIA_PRODUTO|PRECO_PRODUTO|QUANTIDADE_PRODUTO|ANO_FABRICACAO_PRODUTO|\n",
      "+----------+------------+-------------+-----------------+-------------+------------------+----------------------+\n",
      "|         2|   PRODUTO_Y|      MARCA_Y|      CATEGORIA_Y|        500.0|               100|                  2025|\n",
      "|         1|   PRODUTO_X|      MARCA_X|      CATEGORIA_A|        800.0|                50|                  2020|\n",
      "|         3|   PRODUTO_Z|      MARCA_Z|      CATEGORIA_Z|        150.0|               150|                  2023|\n",
      "+----------+------------+-------------+-----------------+-------------+------------------+----------------------+\n",
      "\n"
     ]
    }
   ],
   "source": [
    "spark.sql('select * from local.PRODUTOS').show()"
   ]
  },
  {
   "cell_type": "code",
   "execution_count": 21,
   "id": "7249455b-3bee-42ba-91e8-7723e8a16c9f",
   "metadata": {},
   "outputs": [
    {
     "data": {
      "text/plain": [
       "DataFrame[]"
      ]
     },
     "execution_count": 21,
     "metadata": {},
     "output_type": "execute_result"
    }
   ],
   "source": [
    "spark.sql('delete from local.PRODUTOS where ID_PRODUTO = 3')"
   ]
  },
  {
   "cell_type": "code",
   "execution_count": 22,
   "id": "567d3f30-2811-447d-800a-b64da856dc07",
   "metadata": {},
   "outputs": [
    {
     "name": "stdout",
     "output_type": "stream",
     "text": [
      "+----------+------------+-------------+-----------------+-------------+------------------+----------------------+\n",
      "|ID_PRODUTO|NOME_PRODUTO|MARCA_PRODUTO|CATEGORIA_PRODUTO|PRECO_PRODUTO|QUANTIDADE_PRODUTO|ANO_FABRICACAO_PRODUTO|\n",
      "+----------+------------+-------------+-----------------+-------------+------------------+----------------------+\n",
      "|         1|   PRODUTO_X|      MARCA_X|      CATEGORIA_A|        800.0|                50|                  2020|\n",
      "|         2|   PRODUTO_Y|      MARCA_Y|      CATEGORIA_Y|        500.0|               100|                  2025|\n",
      "+----------+------------+-------------+-----------------+-------------+------------------+----------------------+\n",
      "\n"
     ]
    }
   ],
   "source": [
    "spark.sql('select * from local.PRODUTOS').show()"
   ]
  },
  {
   "cell_type": "code",
   "execution_count": null,
   "id": "8f5dc2b9-4063-41d4-9e0a-cc117e4b789c",
   "metadata": {},
   "outputs": [],
   "source": []
  }
 ],
 "metadata": {
  "kernelspec": {
   "display_name": "Python 3 (ipykernel)",
   "language": "python",
   "name": "python3"
  },
  "language_info": {
   "codemirror_mode": {
    "name": "ipython",
    "version": 3
   },
   "file_extension": ".py",
   "mimetype": "text/x-python",
   "name": "python",
   "nbconvert_exporter": "python",
   "pygments_lexer": "ipython3",
   "version": "3.12.3"
  }
 },
 "nbformat": 4,
 "nbformat_minor": 5
}
